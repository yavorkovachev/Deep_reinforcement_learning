{
  "cells": [
    {
      "cell_type": "markdown",
      "metadata": {
        "id": "view-in-github",
        "colab_type": "text"
      },
      "source": [
        "<a href=\"https://colab.research.google.com/github/yavorkovachev/Reinforcement_learning/blob/main/Reinforce/Reinforce_Colab.ipynb\" target=\"_parent\"><img src=\"https://colab.research.google.com/assets/colab-badge.svg\" alt=\"Open In Colab\"/></a>"
      ]
    },
    {
      "cell_type": "markdown",
      "source": [
        "# REINFORCE algorithm\n",
        "\n",
        "## 1. Algorithm and environment overview \n",
        "\n",
        "This notebook shows how to apply the REINFORCE algoritm to solve OpenAI Gym's [CartPole-v0](https://github.com/openai/gym/wiki/CartPole-v0) environment.\n",
        "\n",
        "### 1.1 Overview\n",
        "\n",
        "We use a neural network to apporixmate the optimal policy function (instead of keeping a table of value function estimates) and apply gradient ascent to find the optimal weights of the network i.e. the weights which maximize expected future returns. The neural network takes the current state as input and outputs a discrete probability distribution over the action set.\n",
        "\n",
        "If we let $\\theta$ denote the weights of the neural network and $U(\\theta)$ the expected future rewards.  We want to solve the problem \n",
        "\n",
        "$$max_\\theta E_{\\pi_{\\theta}}[R(\\tau)]$$\n",
        "\n",
        "where the expectation is taken over all possible state-action sequences, also called trajectories, of (horizon) lenght H $\\tau = (s_{0}, a_{0},...,s_{H}, a_{H},s_{H+1})$ \n",
        "\n",
        "\n",
        "### 1.2 The REINFORCE algorithm \n",
        "\n",
        "The REINFORCE algorithm solves the optimization problem above in the following steps: \n",
        "\n",
        "1. Use policy $\\pi_\\theta$ determined by the weights of the nueral network to generate $m$ trajectories $\\{\\tau^{(1)}, \\tau^{(2)},..., \\tau^{(m)} \\}$ with (horizon) length $H$ where the i-th trajectory is defined as the collection of state action pairs\n",
        "\n",
        "$$ \\tau^{(i)} = (s_{0}^{(i)}, a_{0}^{(i)},...,s_{H}^{(i)}, a_{H}^{(i)},s_{H+1}^{(i)}) $$\n",
        "\n",
        "\n",
        "2. Use the trajectories to estimate the gradient $\\triangledown{_\\theta} U(\\theta)$ \n",
        "\n",
        "\n",
        "\\begin{equation}\n",
        "max_\\theta E_{\\pi_{\\theta}}[R(\\tau)] =  \\frac{1}{m} \\sum_{i=1}^{m} \\sum_{t=0}^{H} \\triangledown{_\\theta} \\text{log}_{\\pi_{\\theta}}(a_{t}^{(i)}|s_{t}^{(i)})R(\\tau^{(i)}) \\tag{1}\n",
        "\\end{equation}\n",
        "\n",
        "3. Update the weights of the policy: \n",
        "$$ \\theta \\leftarrow \\theta + \\alpha \\hat{g} $$\n",
        "\n",
        "4. Loop over steps 1-3\n",
        "\n",
        "### 1.3 The REINFORCE gradient approximation\n",
        "\n",
        "The crucial ingredient in the REINFORCE algorithm is the approximation formula in eq. (1). The derivation is shown below:\n",
        "\n",
        "\\begin{align*}\n",
        "\\triangledown{_\\theta} E_{\\pi_{\\theta}}[R(\\tau)] \n",
        "&= \\triangledown{_\\theta} \\sum_{\\tau} P(\\tau;\\theta) R(\\tau) \\tag{def. of expectation} \\\\\n",
        "&= \\sum_{\\tau} \\triangledown{_\\theta} P(\\tau;\\theta) R(\\tau) \\tag{gradient is a linear operator} \\\\\n",
        "&= \\sum_{\\tau} \\frac{P(\\tau;\\theta)}{P(\\tau;\\theta)} \\triangledown{_\\theta} P(\\tau;\\theta) R(\\tau) \\tag{multilply by 1} \\\\\n",
        "&= \\sum_{\\tau} P(\\tau;\\theta)\\frac{\\triangledown{_\\theta} P(\\tau;\\theta)}{P(\\tau;\\theta)}  R(\\tau) \\tag{rewrite} \\\\\n",
        "&= \\sum_{\\tau} P(\\tau;\\theta) \\triangledown{_\\theta} \\text{log}P(\\tau;\\theta)  R(\\tau) \\tag{def. of derivative of log(x)} \\\\\n",
        "\\end{align*}\n",
        "\n",
        "In the final line the transformation $\\triangledown{_\\theta} \\text{log}P(\\tau;\\theta) = \\frac{\\triangledown{_\\theta}P(\\tau;\\theta)}{P(\\tau;\\theta)} $ is known as the **likelihood ratio transformation** or, alteratively, the REINFORCE trick. That is why\n",
        "\n",
        "\\begin{align}\n",
        "\\triangledown_{\\theta} E_{\\pi_{\\theta}}[R(\\tau)] = \\sum_{\\tau} P(\\tau;\\theta) \\triangledown_{\\theta} \\text{log}P(\\tau;\\theta)  R(\\tau)  \\tag{2}\n",
        "\\end{align}\n",
        "\n",
        "is commonly referred to as the **likelihood ratio policy gradient**.\n",
        "\n",
        "Since we cannot compute the sum in eq. (2) over all possible trajectories $\\tau$ we approximate the value of the **likelihood ratio policy gradient** over a sample of $m$ trajectories $\\{\\tau^{(1)}, \\tau^{(2)},..., \\tau^{(m)} \\}$. The probability of each trajectory in the sample is $\\frac{1}{m}$, consequently\n",
        "\n",
        "$$ \\triangledown{_\\theta} E_{\\pi_{\\theta}}[R(\\tau)] = \\frac{1}{m} \\sum_{i=1}^{m} \\triangledown{_\\theta} \\text{log}P(\\tau;\\theta^{(i)})  R(\\tau^{(i)})  \\tag{3}\n",
        "$$\n",
        "\n",
        "Expanding the $\\triangledown{_\\theta} \\text{log}P(\\tau^{(i)};\\theta)$ term we get  \n",
        "\n",
        "\\begin{align*}\n",
        "\\triangledown{_\\theta} \\text{log}P(\\tau;\\theta)\n",
        "&= \\triangledown{_\\theta} \\text{log} \\prod_{t=0}^{H} P(s_{(t+1)}^{(i)}|s_{(t)}^{(i)}, a_{(t)}^{(i)}) \\pi_{\\theta}(a_{(t)}^{(i)}|s_{(t)}^{(i)}) \\tag{def. of $\\tau^{(i)}$} \\\\\n",
        "&=\\triangledown{_\\theta} \\sum_{t=0}^{H} \\text{log} P(s_{(t+1)}^{(i)}|s_{(t)}^{(i)}, a_{(t)}^{(i)}) \\pi_{\\theta}(a_{(t)}^{(i)}|s_{(t)}^{(i)}) \\tag{properties of log} \\\\\n",
        "&=\\triangledown{_\\theta}\\left[ \\sum_{t=0}^{H} \\text{log} P(s_{(t+1)}^{(i)}|s_{(t)}^{(i)}, a_{(t)}^{(i)}) + \\sum_{t=0}^{H} \\text{log} \\pi_{\\theta}(a_{(t)}^{(i)}|s_{(t)}^{(i)}) \\tag{properties of log}\\right] \\\\\n",
        "&=\\triangledown{_\\theta} \\sum_{t=0}^{H} \\text{log} \\pi_{\\theta}(a_{(t)}^{(i)}|s_{(t)}^{(i)}) \\tag{first sum is a scalar} \\\\\n",
        "&= \\sum_{t=0}^{H} \\triangledown{_\\theta}  \\text{log} \\pi_{\\theta}(a_{(t)}^{(i)}|s_{(t)}^{(i)}) \\tag{gradient is a linear operator} \\\\\n",
        "\\end{align*}\n",
        "\n",
        "Substituting $\\triangledown{_\\theta} \\text{log}P(\\tau;\\theta) = \\sum_{t=0}^{H} \\triangledown{_\\theta}  \\text{log} \\pi_{\\theta}(a_{(t)}^{(i)}|s_{(t)}^{(i)})$ back into the approximation for the likelihood ratio policy gradient in eq. (3) we get eq. (1)\n",
        "\n",
        "\n",
        "$$ \\triangledown{_\\theta} E_{\\pi_{\\theta}}[R(\\tau)] = \\frac{1}{m} \\sum_{i=1}^{m} \\sum_{t=0}^{H} \\triangledown{_\\theta}  \\text{log} \\pi_{\\theta}(a_{(t)}^{(i)}|s_{(t)}^{(i)})  R(\\tau^{(i)})\n",
        "$$\n"
      ],
      "metadata": {
        "id": "zjsKIDfsqOsq"
      }
    },
    {
      "cell_type": "markdown",
      "metadata": {
        "id": "ZTp9R8gCnAy2"
      },
      "source": [
        "## 2. Implementation"
      ]
    },
    {
      "cell_type": "code",
      "execution_count": null,
      "metadata": {
        "id": "IUF3ASUqnAy3",
        "colab": {
          "base_uri": "https://localhost:8080/"
        },
        "outputId": "fec05301-dac3-4903-dd94-494d892899b5"
      },
      "outputs": [
        {
          "output_type": "stream",
          "name": "stdout",
          "text": [
            "GPU 0: Tesla P100-PCIE-16GB (UUID: GPU-c959e913-8138-30d5-38bc-7681903dbd03)\n"
          ]
        }
      ],
      "source": [
        "import gym\n",
        "from gym import logger as gymlogger\n",
        "from gym.wrappers import Monitor\n",
        "gymlogger.set_level(40) #error only (suppress warnings)\n",
        "\n",
        "import numpy as np\n",
        "\n",
        "from collections import deque\n",
        "import matplotlib.pyplot as plt\n",
        "%matplotlib inline\n",
        "\n",
        "import torch\n",
        "torch.manual_seed(0) # set random seed\n",
        "import torch.nn as nn\n",
        "import torch.nn.functional as F\n",
        "import torch.optim as optim\n",
        "from torch.distributions import Categorical\n",
        "\n",
        "!nvidia-smi -L"
      ]
    },
    {
      "cell_type": "code",
      "execution_count": null,
      "metadata": {
        "id": "FbMqHRHcnAy4",
        "outputId": "27ab3aca-1aa6-4ece-db81-1e55591667ea",
        "colab": {
          "base_uri": "https://localhost:8080/"
        }
      },
      "outputs": [
        {
          "output_type": "stream",
          "name": "stdout",
          "text": [
            "State space: Box(4,)\n",
            "Action space: Discrete(2)\n"
          ]
        }
      ],
      "source": [
        "env = gym.make('CartPole-v0')\n",
        "env.seed(0)\n",
        "\n",
        "print('State space:', env.observation_space)\n",
        "print('Action space:', env.action_space)"
      ]
    },
    {
      "cell_type": "code",
      "execution_count": null,
      "metadata": {
        "id": "Lh0ONybmnAy5"
      },
      "outputs": [],
      "source": [
        "device = torch.device('cuda:0' if torch.cuda.is_available() else 'cpu')\n",
        "\n",
        "# Define a neural network (NN) whose weights determine the policy\n",
        "# Default size: 4,16,2. The NN maps states to actions\n",
        "class Policy(nn.Module):\n",
        "    def __init__(self, state_size = 4, hl1=16, action_size=2):\n",
        "        super(Policy, self).__init__()\n",
        "        self.fc1 = nn.Linear(state_size, hl1)\n",
        "        self.fc2 = nn.Linear(hl1, action_size)\n",
        "        \n",
        "    def forward(self, x):\n",
        "        x = self.fc1(x)\n",
        "        x = F.relu(x)\n",
        "        x = self.fc2(x)\n",
        "        return F.softmax(x, dim=1) # softmax to output discrete dist. over actions\n",
        "        \n",
        "    def act(self, state):\n",
        "        state = torch.from_numpy(state).float().unsqueeze(0).to(device)\n",
        "        probs = self.forward(state)\n",
        "        m = Categorical(probs)\n",
        "        action = m.sample()\n",
        "        return action.item(), m.log_prob(action)\n"
      ]
    },
    {
      "cell_type": "code",
      "execution_count": null,
      "metadata": {
        "id": "pO7Gd6fynAy5",
        "outputId": "f9b310fe-be19-44cb-e3c8-702a83bcc58e",
        "colab": {
          "base_uri": "https://localhost:8080/"
        }
      },
      "outputs": [
        {
          "output_type": "stream",
          "name": "stdout",
          "text": [
            " Epside: 100 \t Average Score: 23.19\n",
            " Epside: 200 \t Average Score: 37.86\n",
            " Epside: 300 \t Average Score: 69.58\n",
            " Epside: 400 \t Average Score: 120.53\n",
            " Epside: 500 \t Average Score: 124.44\n",
            " Epside: 600 \t Average Score: 141.08\n",
            " Epside: 700 \t Average Score: 145.75\n",
            " Epside: 800 \t Average Score: 187.20\n",
            " Epside: 900 \t Average Score: 186.27\n",
            " Epside: 1000 \t Average Score: 198.57\n"
          ]
        }
      ],
      "source": [
        "policy = Policy().to(device)\n",
        "optimizer = torch.optim.Adam(policy.parameters(), lr=0.005)\n",
        "\n",
        "def reinforce(n_episodes=1000, max_t=1000, gamma=1.0, print_every=100):\n",
        "\n",
        "    scores = []\n",
        "    for episode in range(1,n_episodes+1): \n",
        "        rewards = []\n",
        "        log_probs = []\n",
        "\n",
        "        state = env.reset()\n",
        "        for t in range(max_t):\n",
        "            action, log_prob = policy.act(state)\n",
        "            next_state, reward, done, _ = env.step(action)\n",
        "            rewards.append(reward)\n",
        "            log_probs.append(log_prob)\n",
        "            state = next_state\n",
        "            if done: \n",
        "                break\n",
        "        scores.append(sum(rewards))\n",
        "\n",
        "        discounts = [gamma**i for i in range(len(rewards))]\n",
        "        R = sum([d*r for d,r in zip(discounts, rewards)])        \n",
        "\n",
        "        policy_loss = []\n",
        "        for log_pr in log_probs:\n",
        "            policy_loss.append(- log_pr*R)\n",
        "        policy_loss = torch.cat(policy_loss).sum()\n",
        "\n",
        "        optimizer.zero_grad()\n",
        "        policy_loss.backward()\n",
        "        optimizer.step()\n",
        "\n",
        "        if episode%print_every==0:\n",
        "            avg_score = sum(scores[episode-print_every:episode])/print_every\n",
        "            print('\\r Epside: {:d} \\t Average Score: {:.2f}'.format(episode, avg_score))\n",
        "\n",
        "        avg_last_100_scores = np.mean(scores[-100:])\n",
        "        if  avg_last_100_scores >= 250.0:\n",
        "            print(' Task solved in {:d} episodes. Average score: {:.2f}'.format(episode, avg_last_100_scores))\n",
        "            break\n",
        "        \n",
        "    return scores\n",
        "\n",
        "scores = reinforce()"
      ]
    },
    {
      "cell_type": "markdown",
      "metadata": {
        "id": "G3yVKHMbnAy6"
      },
      "source": [
        "## 3. Plot training scores"
      ]
    },
    {
      "cell_type": "code",
      "execution_count": null,
      "metadata": {
        "id": "X59utBJTnAy6",
        "outputId": "9f0ea762-9abc-4847-cbc7-6640bac7ab77",
        "colab": {
          "base_uri": "https://localhost:8080/",
          "height": 279
        }
      },
      "outputs": [
        {
          "output_type": "display_data",
          "data": {
            "text/plain": [
              "<Figure size 432x288 with 1 Axes>"
            ],
            "image/png": "[encoded data removed]"
          },
          "metadata": {
            "needs_background": "light"
          }
        }
      ],
      "source": [
        "fig = plt.figure()\n",
        "ax = fig.add_subplot(111)\n",
        "plt.plot(np.arange(len(scores))+1, scores)\n",
        "plt.xlabel('Episode #')\n",
        "plt.ylabel('Score')\n",
        "plt.show()"
      ]
    },
    {
      "cell_type": "markdown",
      "metadata": {
        "id": "ZwJgmLpSnAy7"
      },
      "source": [
        "## 4. Watch the trained agent perform the task\n",
        "\n",
        "To display the how the trained agent performs the tast on `Google Colab` we have to record a video as done here: https://colab.research.google.com/drive/1flu31ulJlgiRL1dnN2ir8wGh9p7Zij2t#scrollTo=nQEtc28G4niA"
      ]
    },
    {
      "cell_type": "code",
      "source": [
        "#remove \" > /dev/null 2>&1\" to see what is going on under the hood\n",
        "!pip install gym pyvirtualdisplay > /dev/null 2>&1\n",
        "!apt-get install -y xvfb python-opengl ffmpeg > /dev/null 2>&1\n",
        "!apt-get update > /dev/null 2>&1\n",
        "!apt-get install cmake > /dev/null 2>&1\n",
        "!pip install --upgrade setuptools 2>&1\n",
        "!pip install ez_setup > /dev/null 2>&1\n",
        "!pip install gym[atari] > /dev/null 2>&1\n",
        "\n",
        "\n",
        "import matplotlib\n",
        "import matplotlib.pyplot as plt\n",
        "%matplotlib inline\n",
        "import glob\n",
        "import io\n",
        "import base64\n",
        "from IPython.display import HTML\n",
        "\n",
        "from IPython import display as ipythondisplay\n",
        "\n",
        "from pyvirtualdisplay import Display\n",
        "display = Display(visible=0, size=(1400, 900))\n",
        "display.start()\n",
        "\n",
        "\"\"\"\n",
        "Utility functions to enable video recording of gym environment \n",
        "and displaying it.\n",
        "To enable video, just do \"env = wrap_env(env)\"\"\n",
        "\"\"\"\n",
        "\n",
        "\n",
        "def show_video():\n",
        "    mp4list = glob.glob('video/*.mp4')\n",
        "    if len(mp4list) > 0:\n",
        "        mp4 = mp4list[0]\n",
        "        video = io.open(mp4, 'r+b').read()\n",
        "        encoded = base64.b64encode(video)\n",
        "        ipythondisplay.display(HTML(data='''<video alt=\"test\" autoplay \n",
        "                loop controls style=\"height: 400px;\">\n",
        "                <source src=\"data:video/mp4;base64,{0}\" type=\"video/mp4\" />\n",
        "             </video>'''.format(encoded.decode('ascii'))))\n",
        "    else:\n",
        "        print(\"Could not find video\")\n",
        "\n",
        "\n",
        "def wrap_env(env):\n",
        "    env = Monitor(env, './video', force=True)\n",
        "    return env\n"
      ],
      "metadata": {
        "colab": {
          "base_uri": "https://localhost:8080/"
        },
        "id": "nlFnr90G73zg",
        "outputId": "573d0634-08e6-44be-ff14-ee069081726f"
      },
      "execution_count": null,
      "outputs": [
        {
          "output_type": "stream",
          "name": "stdout",
          "text": [
            "Looking in indexes: https://pypi.org/simple, https://us-python.pkg.dev/colab-wheels/public/simple/\n",
            "Requirement already satisfied: setuptools in /usr/local/lib/python3.7/dist-packages (62.4.0)\n"
          ]
        }
      ]
    },
    {
      "cell_type": "code",
      "execution_count": null,
      "metadata": {
        "id": "ZSVjGU0BnAy7",
        "colab": {
          "base_uri": "https://localhost:8080/",
          "height": 422
        },
        "outputId": "1a5e9393-9b65-454e-c542-0c2e4b1559ca"
      },
      "outputs": [
        {
          "output_type": "display_data",
          "data": {
            "text/plain": [
              "<IPython.core.display.HTML object>"
            ],
            "text/html": [
              "<video alt=\"test\" autoplay \n",
              "                loop controls style=\"height: 400px;\">\n",
              "                <source src=\"data:video/mp4;base64,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\" type=\"video/mp4\" />\n",
              "             </video>"
            ]
          },
          "metadata": {}
        }
      ],
      "source": [
        "env = wrap_env(gym.make('CartPole-v0'))\n",
        "\n",
        "state = env.reset()\n",
        "for t in range(9000):\n",
        "\n",
        "    env.render()\n",
        "    action, _ = policy.act(state)\n",
        "    state, reward, done, _ = env.step(action)\n",
        "    # fig, ax = plt.subplots(figsize=(20, 10))\n",
        "    # ax.axis('off')\n",
        "    # img = ax.imshow(env.render(mode='rgb_array'))\n",
        "    # #img.set_data(env.render(mode='rgb_array')) \n",
        "    # display.display(plt.gcf())\n",
        "    if done:\n",
        "        break\n",
        "\n",
        "env.close()\n",
        "show_video()"
      ]
    },
    {
      "cell_type": "markdown",
      "metadata": {
        "id": "eDCe9wEjnAy9"
      },
      "source": [
        "## 5. Comments\n",
        "\n",
        "### 5.1 Implementation\n",
        "\n",
        "The reason why the ```backward()``` operation in ```PyTorch``` works on categorical probability distributions is explained here: https://pytorch.org/docs/stable/distributions.html\n",
        "\n",
        "### 5.2 Performance\n",
        "\n",
        "From the graph of the training scores we can see the REINFORCE algorithm is not very stable. If the random seed for the CartPole-v0 environment or the random seed of the PyTorch library is changed (e.g. try ``env.seed(22)`` with ``torch.manual_seed(0)``) the algorithm will not converge even if we increase the size of the first hidden layer to an arbitrary large number e.g. 1024.\n",
        "\n",
        "[Proximal Policy Optimization](https://arxiv.org/pdf/1707.06347.pdf) overcomes the limitations of REINFORCE. "
      ]
    }
  ],
  "metadata": {
    "kernelspec": {
      "display_name": "Python 3",
      "language": "python",
      "name": "python3"
    },
    "language_info": {
      "codemirror_mode": {
        "name": "ipython",
        "version": 3
      },
      "file_extension": ".py",
      "mimetype": "text/x-python",
      "name": "python",
      "nbconvert_exporter": "python",
      "pygments_lexer": "ipython3",
      "version": "3.8.5"
    },
    "colab": {
      "name": "Reinforce_Colab.ipynb",
      "provenance": [],
      "collapsed_sections": [],
      "include_colab_link": true
    },
    "accelerator": "GPU",
    "gpuClass": "standard"
  },
  "nbformat": 4,
  "nbformat_minor": 0
}