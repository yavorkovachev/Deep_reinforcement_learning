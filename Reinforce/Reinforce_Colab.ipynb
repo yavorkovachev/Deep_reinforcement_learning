{
  "cells": [
    {
      "cell_type": "markdown",
      "metadata": {
        "id": "view-in-github",
        "colab_type": "text"
      },
      "source": [
        "<a href=\"https://colab.research.google.com/github/yavorkovachev/Reinforcement_learning/blob/main/Reinforce/Reinforce_Colab.ipynb\" target=\"_parent\"><img src=\"https://colab.research.google.com/assets/colab-badge.svg\" alt=\"Open In Colab\"/></a>"
      ]
    },
    {
      "cell_type": "markdown",
      "source": [
        "# REINFORCE algorithm\n",
        "\n",
        "## 1. Algorithm and environment overview \n",
        "\n",
        "This notebook shows how to apply the REINFORCE algoritm to solve OpenAI Gym's [CartPole-v0](https://github.com/openai/gym/wiki/CartPole-v0) control problem.\n",
        "\n",
        "### 1.1 Overview\n",
        "\n",
        "We use a neural network to apporixmate the optimal policy function (instead of keeping a table of value function estimates as in [Q-learning](https://en.wikipedia.org/wiki/Q-learning)) and apply gradient ascent to find the optimal weights of the network i.e. the weights which maximize expected future returns. The neural network takes the current state as input and outputs a discrete probability distribution over the action set.\n",
        "\n",
        "If we let $\\theta$ denote the weights of the neural network and $U(\\theta)$ the expected future rewards.  We want to solve the problem \n",
        "\n",
        "$$max_{\\theta} U(\\theta) = max_\\theta E_{\\pi_{\\theta}}[R(\\tau)]$$\n",
        "\n",
        "where the expectation is taken over all possible state-action sequences, also called trajectories, of (horizon) lenght H $\\tau = (s_{0}, a_{0},...,s_{H}, a_{H},s_{H+1})$, and $\\pi_{\\theta}$ is the policy function determined by $\\theta$ while $R(\\cdot)$ is the reward function.\n",
        "\n",
        "\n",
        "### 1.2 The REINFORCE algorithm \n",
        "\n",
        "The REINFORCE algorithm solves the optimization problem above in the following steps: \n",
        "\n",
        "1. Use policy $\\pi_\\theta$ determined by the weights of the neural network to generate $m$ trajectories $\\{\\tau^{(1)}, \\tau^{(2)},..., \\tau^{(m)} \\}$ with (horizon) length $H$ where the i-th trajectory is defined as the collection of state action pairs\n",
        "\n",
        "$$ \\tau^{(i)} = (s_{0}^{(i)}, a_{0}^{(i)},...,s_{H}^{(i)}, a_{H}^{(i)},s_{H+1}^{(i)}) $$\n",
        "\n",
        "\n",
        "2. Use the trajectories to estimate the gradient $\\hat{g} = \\triangledown{_\\theta} E_{\\pi_{\\theta}}[R(\\tau)] $ \n",
        "\n",
        "\n",
        "\\begin{equation}\n",
        "\\hat{g} =  \\triangledown_{\\theta} E_{\\pi_{\\theta}}[R(\\tau)] :=  \\frac{1}{m} \\sum_{i=1}^{m} \\sum_{t=0}^{H} \\triangledown{_\\theta} \\text{log}_{\\pi_{\\theta}}(a_{t}^{(i)}|s_{t}^{(i)})R(\\tau^{(i)}) \\tag{1}\n",
        "\\end{equation}\n",
        "\n",
        "3. Update the weights of the policy: \n",
        "$$ \\theta \\leftarrow \\theta + \\alpha \\hat{g} $$\n",
        "\n",
        "4. Loop over steps 1-3\n",
        "\n",
        "### 1.3 The REINFORCE gradient approximation\n",
        "\n",
        "The crucial ingredient in the REINFORCE algorithm is the approximation formula in eq. (1). The derivation is shown below:\n",
        "\n",
        "\\begin{align*}\n",
        "\\triangledown{_\\theta} E_{\\pi_{\\theta}}[R(\\tau)] \n",
        "&= \\triangledown{_\\theta} \\sum_{\\tau} P(\\tau;\\theta) R(\\tau) \\tag{def. of expectation} \\\\\n",
        "&= \\sum_{\\tau} \\triangledown{_\\theta} P(\\tau;\\theta) R(\\tau) \\tag{gradient is a linear operator} \\\\\n",
        "&= \\sum_{\\tau} \\frac{P(\\tau;\\theta)}{P(\\tau;\\theta)} \\triangledown{_\\theta} P(\\tau;\\theta) R(\\tau) \\tag{multilply by 1} \\\\\n",
        "&= \\sum_{\\tau} P(\\tau;\\theta)\\frac{\\triangledown{_\\theta} P(\\tau;\\theta)}{P(\\tau;\\theta)}  R(\\tau) \\tag{rewrite} \\\\\n",
        "&= \\sum_{\\tau} P(\\tau;\\theta) \\triangledown{_\\theta} \\text{log}P(\\tau;\\theta)  R(\\tau) \\tag{derivative of log(x)} \\\\\n",
        "\\end{align*}\n",
        "\n",
        "In the final line the transformation $\\triangledown{_\\theta} \\text{log}P(\\tau;\\theta) = \\frac{\\triangledown{_\\theta}P(\\tau;\\theta)}{P(\\tau;\\theta)} $ is known as the **likelihood ratio transformation** or, alteratively, the REINFORCE trick which is why\n",
        "\n",
        "\\begin{align}\n",
        "\\triangledown_{\\theta} E_{\\pi_{\\theta}}[R(\\tau)] = \\sum_{\\tau} P(\\tau;\\theta) \\triangledown_{\\theta} \\text{log}P(\\tau;\\theta)  R(\\tau)  \\tag{2}\n",
        "\\end{align}\n",
        "\n",
        "is commonly referred to as the **likelihood ratio policy gradient**.\n",
        "\n",
        "Since we cannot compute the sum in eq. (2) over all possible trajectories $\\tau$ we approximate the value of the **likelihood ratio policy gradient** over a sample of $m$ trajectories $\\{\\tau^{(1)}, \\tau^{(2)},..., \\tau^{(m)} \\}$. The probability of each trajectory in the sample is $\\frac{1}{m}$, consequently\n",
        "\n",
        "$$ \\triangledown{_\\theta} E_{\\pi_{\\theta}}[R(\\tau)] = \\frac{1}{m} \\sum_{i=1}^{m} \\triangledown{_\\theta} \\text{log}P(\\tau;\\theta^{(i)})  R(\\tau^{(i)})  \\tag{3}\n",
        "$$\n",
        "\n",
        "Expanding the $\\triangledown{_\\theta} \\text{log}P(\\tau^{(i)};\\theta)$ term we get  \n",
        "\n",
        "\\begin{align*}\n",
        "\\triangledown{_\\theta} \\text{log}P(\\tau;\\theta)\n",
        "&= \\triangledown{_\\theta} \\text{log} \\prod_{t=0}^{H} P(s_{(t+1)}^{(i)}|s_{(t)}^{(i)}, a_{(t)}^{(i)}) \\pi_{\\theta}(a_{(t)}^{(i)}|s_{(t)}^{(i)}) \\tag{def. of $\\tau^{(i)}$} \\\\\n",
        "&=\\triangledown{_\\theta} \\sum_{t=0}^{H} \\text{log} P(s_{(t+1)}^{(i)}|s_{(t)}^{(i)}, a_{(t)}^{(i)}) \\pi_{\\theta}(a_{(t)}^{(i)}|s_{(t)}^{(i)}) \\tag{properties of log} \\\\\n",
        "&=\\triangledown{_\\theta}\\left[ \\sum_{t=0}^{H} \\text{log} P(s_{(t+1)}^{(i)}|s_{(t)}^{(i)}, a_{(t)}^{(i)}) + \\sum_{t=0}^{H} \\text{log} \\pi_{\\theta}(a_{(t)}^{(i)}|s_{(t)}^{(i)}) \\tag{properties of log}\\right] \\\\\n",
        "&=\\triangledown{_\\theta} \\sum_{t=0}^{H} \\text{log} \\pi_{\\theta}(a_{(t)}^{(i)}|s_{(t)}^{(i)}) \\tag{first sum is a scalar} \\\\\n",
        "&= \\sum_{t=0}^{H} \\triangledown{_\\theta}  \\text{log} \\pi_{\\theta}(a_{(t)}^{(i)}|s_{(t)}^{(i)}) \\tag{gradient is a linear operator} \\\\\n",
        "\\end{align*}\n",
        "\n",
        "Substituting $\\triangledown{_\\theta} \\text{log}P(\\tau;\\theta) = \\sum_{t=0}^{H} \\triangledown{_\\theta}  \\text{log} \\pi_{\\theta}(a_{(t)}^{(i)}|s_{(t)}^{(i)})$ back into the approximation for the likelihood ratio policy gradient in eq. (3) we get eq. (1)\n",
        "\n",
        "\n",
        "$$ \\triangledown{_\\theta} E_{\\pi_{\\theta}}[R(\\tau)] = \\frac{1}{m} \\sum_{i=1}^{m} \\sum_{t=0}^{H} \\triangledown{_\\theta}  \\text{log} \\pi_{\\theta}(a_{(t)}^{(i)}|s_{(t)}^{(i)})  R(\\tau^{(i)})\n",
        "$$\n"
      ],
      "metadata": {
        "id": "zjsKIDfsqOsq"
      }
    },
    {
      "cell_type": "markdown",
      "metadata": {
        "id": "ZTp9R8gCnAy2"
      },
      "source": [
        "## 2. Implementation"
      ]
    },
    {
      "cell_type": "code",
      "execution_count": 1,
      "metadata": {
        "id": "IUF3ASUqnAy3",
        "colab": {
          "base_uri": "https://localhost:8080/"
        },
        "outputId": "8fbb3835-d625-4d13-dfdc-4bdbd8f4ed65"
      },
      "outputs": [
        {
          "output_type": "stream",
          "name": "stdout",
          "text": [
            "GPU 0: Tesla P100-PCIE-16GB (UUID: GPU-05833e0c-7b53-8987-dc7f-41dd584136db)\n"
          ]
        }
      ],
      "source": [
        "import gym\n",
        "from gym import logger as gymlogger\n",
        "from gym.wrappers import Monitor\n",
        "gymlogger.set_level(40) #error only (suppress warnings)\n",
        "\n",
        "import numpy as np\n",
        "\n",
        "from collections import deque\n",
        "import matplotlib.pyplot as plt\n",
        "%matplotlib inline\n",
        "\n",
        "import torch\n",
        "torch.manual_seed(0) # set random seed\n",
        "import torch.nn as nn\n",
        "import torch.nn.functional as F\n",
        "import torch.optim as optim\n",
        "from torch.distributions import Categorical\n",
        "\n",
        "!nvidia-smi -L"
      ]
    },
    {
      "cell_type": "code",
      "execution_count": 2,
      "metadata": {
        "id": "FbMqHRHcnAy4",
        "outputId": "f745e9f8-e8bf-46d2-9114-c43c62143b68",
        "colab": {
          "base_uri": "https://localhost:8080/"
        }
      },
      "outputs": [
        {
          "output_type": "stream",
          "name": "stdout",
          "text": [
            "State space: Box(-3.4028234663852886e+38, 3.4028234663852886e+38, (4,), float32)\n",
            "Action space: Discrete(2)\n"
          ]
        }
      ],
      "source": [
        "env = gym.make('CartPole-v0')\n",
        "env.seed(0)\n",
        "\n",
        "print('State space:', env.observation_space)\n",
        "print('Action space:', env.action_space)"
      ]
    },
    {
      "cell_type": "code",
      "execution_count": 3,
      "metadata": {
        "id": "Lh0ONybmnAy5"
      },
      "outputs": [],
      "source": [
        "device = torch.device('cuda:0' if torch.cuda.is_available() else 'cpu')\n",
        "\n",
        "# Define a neural network (NN) whose weights determine the policy\n",
        "# Default size: 4,16,2. The NN maps states to actions\n",
        "class Policy(nn.Module):\n",
        "    def __init__(self, state_size = 4, hl1=16, action_size=2):\n",
        "        super(Policy, self).__init__()\n",
        "        self.fc1 = nn.Linear(state_size, hl1)\n",
        "        self.fc2 = nn.Linear(hl1, action_size)\n",
        "        \n",
        "    def forward(self, x):\n",
        "        x = self.fc1(x)\n",
        "        x = F.relu(x)\n",
        "        x = self.fc2(x)\n",
        "        return F.softmax(x, dim=1) # softmax to output discrete dist. over actions\n",
        "        \n",
        "    def act(self, state):\n",
        "        state = torch.from_numpy(state).float().unsqueeze(0).to(device)\n",
        "        probs = self.forward(state)\n",
        "        m = Categorical(probs)\n",
        "        action = m.sample()\n",
        "        return action.item(), m.log_prob(action)\n"
      ]
    },
    {
      "cell_type": "code",
      "execution_count": 4,
      "metadata": {
        "id": "pO7Gd6fynAy5",
        "outputId": "d74f2625-99b4-4e77-dc37-a7ee33a06359",
        "colab": {
          "base_uri": "https://localhost:8080/"
        }
      },
      "outputs": [
        {
          "output_type": "stream",
          "name": "stdout",
          "text": [
            " Epside: 100 \t Average Score: 23.19\n",
            " Epside: 200 \t Average Score: 37.86\n",
            " Epside: 300 \t Average Score: 69.58\n",
            " Epside: 400 \t Average Score: 120.53\n",
            " Epside: 500 \t Average Score: 124.44\n",
            " Epside: 600 \t Average Score: 141.08\n",
            " Epside: 700 \t Average Score: 145.75\n",
            " Epside: 800 \t Average Score: 187.20\n",
            " Task solved in 818 episodes. Average score: 195.00\n"
          ]
        }
      ],
      "source": [
        "policy = Policy().to(device)\n",
        "optimizer = torch.optim.Adam(policy.parameters(), lr=0.005)\n",
        "\n",
        "def reinforce(n_episodes=1500, max_t=1000, gamma=1.0, print_every=100):\n",
        "\n",
        "    scores = []\n",
        "    for episode in range(1,n_episodes+1): \n",
        "        rewards = []\n",
        "        log_probs = []\n",
        "\n",
        "        state = env.reset()\n",
        "        for t in range(max_t):\n",
        "            action, log_prob = policy.act(state)\n",
        "            next_state, reward, done, _ = env.step(action)\n",
        "            rewards.append(reward)\n",
        "            log_probs.append(log_prob)\n",
        "            state = next_state\n",
        "            if done: \n",
        "                break\n",
        "        scores.append(sum(rewards))\n",
        "\n",
        "        discounts = [gamma**i for i in range(len(rewards))]\n",
        "        R = sum([d*r for d,r in zip(discounts, rewards)])        \n",
        "\n",
        "        policy_loss = []\n",
        "        for log_pr in log_probs:\n",
        "            policy_loss.append(- log_pr*R)\n",
        "        policy_loss = torch.cat(policy_loss).sum()\n",
        "\n",
        "        optimizer.zero_grad()\n",
        "        policy_loss.backward()\n",
        "        optimizer.step()\n",
        "\n",
        "        if episode%print_every==0:\n",
        "            avg_score = sum(scores[episode-print_every:episode])/print_every\n",
        "            print('\\r Epside: {:d} \\t Average Score: {:.2f}'.format(episode, avg_score))\n",
        "\n",
        "        avg_last_100_scores = np.mean(scores[-100:])\n",
        "        if  avg_last_100_scores >= 195.0:\n",
        "            print(' Task solved in {:d} episodes. Average score: {:.2f}'.format(episode, avg_last_100_scores))\n",
        "            break\n",
        "        \n",
        "    return scores\n",
        "\n",
        "scores = reinforce()"
      ]
    },
    {
      "cell_type": "markdown",
      "metadata": {
        "id": "G3yVKHMbnAy6"
      },
      "source": [
        "## 3. Plot training scores"
      ]
    },
    {
      "cell_type": "code",
      "execution_count": 5,
      "metadata": {
        "id": "X59utBJTnAy6",
        "outputId": "58b49eec-50c9-4e95-e57d-2fdbe79d94ab",
        "colab": {
          "base_uri": "https://localhost:8080/",
          "height": 279
        }
      },
      "outputs": [
        {
          "output_type": "display_data",
          "data": {
            "text/plain": [
              "<Figure size 432x288 with 1 Axes>"
            ],
            "image/png": "[encoded data removed]"
          },
          "metadata": {
            "needs_background": "light"
          }
        }
      ],
      "source": [
        "fig = plt.figure()\n",
        "ax = fig.add_subplot(111)\n",
        "plt.plot(np.arange(len(scores))+1, scores)\n",
        "plt.xlabel('Episode #')\n",
        "plt.ylabel('Score')\n",
        "plt.show()"
      ]
    },
    {
      "cell_type": "markdown",
      "metadata": {
        "id": "ZwJgmLpSnAy7"
      },
      "source": [
        "## 4. Watch the trained agent perform the task\n",
        "\n",
        "To display the how the trained agent performs the tast on `Google Colab` we have to record a video as done here: https://colab.research.google.com/drive/1flu31ulJlgiRL1dnN2ir8wGh9p7Zij2t#scrollTo=nQEtc28G4niA"
      ]
    },
    {
      "cell_type": "code",
      "source": [
        "#remove \" > /dev/null 2>&1\" to see what is going on under the hood\n",
        "!pip install gym pyvirtualdisplay > /dev/null 2>&1\n",
        "!apt-get install -y xvfb python-opengl ffmpeg > /dev/null 2>&1\n",
        "!apt-get update > /dev/null 2>&1\n",
        "!apt-get install cmake > /dev/null 2>&1\n",
        "!pip install --upgrade setuptools 2>&1\n",
        "!pip install ez_setup > /dev/null 2>&1\n",
        "!pip install gym[atari] > /dev/null 2>&1\n",
        "\n",
        "\n",
        "import matplotlib\n",
        "import matplotlib.pyplot as plt\n",
        "%matplotlib inline\n",
        "import glob\n",
        "import io\n",
        "import base64\n",
        "from IPython.display import HTML\n",
        "\n",
        "from IPython import display as ipythondisplay\n",
        "\n",
        "from pyvirtualdisplay import Display\n",
        "display = Display(visible=0, size=(1400, 900))\n",
        "display.start()\n",
        "\n",
        "\"\"\"\n",
        "Utility functions to enable video recording of gym environment \n",
        "and displaying it.\n",
        "To enable video, just do \"env = wrap_env(env)\"\"\n",
        "\"\"\"\n",
        "\n",
        "\n",
        "def show_video():\n",
        "    mp4list = glob.glob('video/*.mp4')\n",
        "    if len(mp4list) > 0:\n",
        "        mp4 = mp4list[0]\n",
        "        video = io.open(mp4, 'r+b').read()\n",
        "        encoded = base64.b64encode(video)\n",
        "        ipythondisplay.display(HTML(data='''<video alt=\"test\" autoplay \n",
        "                loop controls style=\"height: 400px;\">\n",
        "                <source src=\"data:video/mp4;base64,{0}\" type=\"video/mp4\" />\n",
        "             </video>'''.format(encoded.decode('ascii'))))\n",
        "    else:\n",
        "        print(\"Could not find video\")\n",
        "\n",
        "\n",
        "def wrap_env(env):\n",
        "    env = Monitor(env, './video', force=True)\n",
        "    return env\n"
      ],
      "metadata": {
        "colab": {
          "base_uri": "https://localhost:8080/"
        },
        "id": "nlFnr90G73zg",
        "outputId": "9c8546d7-204d-4f24-91d6-686b9c55096d"
      },
      "execution_count": 6,
      "outputs": [
        {
          "output_type": "stream",
          "name": "stdout",
          "text": [
            "Looking in indexes: https://pypi.org/simple, https://us-python.pkg.dev/colab-wheels/public/simple/\n",
            "Requirement already satisfied: setuptools in /usr/local/lib/python3.7/dist-packages (63.2.0)\n"
          ]
        }
      ]
    },
    {
      "cell_type": "code",
      "execution_count": 7,
      "metadata": {
        "id": "ZSVjGU0BnAy7",
        "colab": {
          "base_uri": "https://localhost:8080/",
          "height": 421
        },
        "outputId": "ab47baf6-f071-47ef-e7ba-7e1951b502f5"
      },
      "outputs": [
        {
          "output_type": "display_data",
          "data": {
            "text/plain": [
              "<IPython.core.display.HTML object>"
            ],
            "text/html": [
              "<video alt=\"test\" autoplay \n",
              "                loop controls style=\"height: 400px;\">\n",
              "                <source src=\"data:video/mp4;base64,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\" type=\"video/mp4\" />\n",
              "             </video>"
            ]
          },
          "metadata": {}
        }
      ],
      "source": [
        "env = wrap_env(gym.make('CartPole-v0'))\n",
        "\n",
        "state = env.reset()\n",
        "for t in range(9000):\n",
        "\n",
        "    env.render()\n",
        "    action, _ = policy.act(state)\n",
        "    state, reward, done, _ = env.step(action)\n",
        "    # fig, ax = plt.subplots(figsize=(20, 10))\n",
        "    # ax.axis('off')\n",
        "    # img = ax.imshow(env.render(mode='rgb_array'))\n",
        "    # #img.set_data(env.render(mode='rgb_array')) \n",
        "    # display.display(plt.gcf())\n",
        "    if done:\n",
        "        break\n",
        "\n",
        "env.close()\n",
        "show_video()"
      ]
    },
    {
      "cell_type": "markdown",
      "metadata": {
        "id": "eDCe9wEjnAy9"
      },
      "source": [
        "## 5. Comments\n",
        "\n",
        "### 5.1 Implementation\n",
        "\n",
        "The reason why the ```backward()``` operation in ```PyTorch``` works on categorical probability distributions is explained here: https://pytorch.org/docs/stable/distributions.html\n",
        "\n",
        "### 5.2 Performance\n",
        "\n",
        "While REINFORCE can solve the control task of balancing the pole attached to the cartwheel, from the graph of the training scores we can see the algorithm is not very stable. In fact if the random seed for the CartPole-v0 environment or the ``PyTorch`` library is changed (e.g. try ``env.seed(22)`` with ``torch.manual_seed(0)``) the algorithm will not converge i.e. a score of 195 over 100 episodes will not be achieved even if we increase the size of the first hidden layer in the NN to an arbitrary large number e.g. 1024 or if use multiple hidden layers. Tuning other hyperparameters e.g. the learning rate of the Adam algorithm, using different activation functions e.g. ``tanh`` etc. will not help either. \n",
        "\n",
        "[Proximal Policy Optimization](https://arxiv.org/pdf/1707.06347.pdf) overcomes the limitations of REINFORCE. "
      ]
    }
  ],
  "metadata": {
    "kernelspec": {
      "display_name": "Python 3",
      "language": "python",
      "name": "python3"
    },
    "language_info": {
      "codemirror_mode": {
        "name": "ipython",
        "version": 3
      },
      "file_extension": ".py",
      "mimetype": "text/x-python",
      "name": "python",
      "nbconvert_exporter": "python",
      "pygments_lexer": "ipython3",
      "version": "3.8.5"
    },
    "colab": {
      "name": "Reinforce_Colab.ipynb",
      "provenance": [],
      "collapsed_sections": [],
      "include_colab_link": true
    },
    "accelerator": "GPU",
    "gpuClass": "standard"
  },
  "nbformat": 4,
  "nbformat_minor": 0
}