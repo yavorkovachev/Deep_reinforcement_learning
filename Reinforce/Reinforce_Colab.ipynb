{
  "cells": [
    {
      "cell_type": "markdown",
      "metadata": {
        "id": "view-in-github",
        "colab_type": "text"
      },
      "source": [
        "<a href=\"https://colab.research.google.com/github/yavorkovachev/Reinforcement_learning/blob/main/Reinforce/Reinforce_Colab.ipynb\" target=\"_parent\"><img src=\"https://colab.research.google.com/assets/colab-badge.svg\" alt=\"Open In Colab\"/></a>"
      ]
    },
    {
      "cell_type": "markdown",
      "source": [
        "# REINFORCE algorithm\n",
        "\n",
        "## 1. Algorithm and environment overview \n",
        "\n",
        "This notebook shows how to apply the REINFORCE algoritm to solve OpenAI Gym's [CartPole-v0](https://github.com/openai/gym/wiki/CartPole-v0) control problem.\n",
        "\n",
        "### 1.1 Overview\n",
        "\n",
        "We use a neural network to apporixmate the optimal policy function (instead of keeping a table of value function estimates as in [Q-learning](https://en.wikipedia.org/wiki/Q-learning)) and apply gradient ascent to find the optimal weights of the network i.e. the weights which maximize expected future returns. The neural network takes the current state as input and outputs a discrete probability distribution over the action set.\n",
        "\n",
        "If we let $\\theta$ denote the weights of the neural network and $U(\\theta)$ the expected future rewards.  We want to solve the problem \n",
        "\n",
        "$$max_{\\theta} U(\\theta) = max_\\theta E_{\\pi_{\\theta}}[R(\\tau)]$$\n",
        "\n",
        "where the expectation is taken over all possible state-action sequences, also called trajectories, of (horizon) lenght H $\\tau = (s_{0}, a_{0},...,s_{H}, a_{H},s_{H+1})$, and $\\pi_{\\theta}$ is the policy function determined by $\\theta$ while $R(\\cdot)$ is the reward function.\n",
        "\n",
        "\n",
        "### 1.2 The REINFORCE algorithm \n",
        "\n",
        "The REINFORCE algorithm solves the optimization problem above in the following steps: \n",
        "\n",
        "1. Use policy $\\pi_\\theta$ determined by the weights of the neural network to generate $m$ trajectories $\\{\\tau^{(1)}, \\tau^{(2)},..., \\tau^{(m)} \\}$ with (horizon) length $H$ where the i-th trajectory is defined as the collection of state action pairs\n",
        "\n",
        "$$ \\tau^{(i)} = (s_{0}^{(i)}, a_{0}^{(i)},...,s_{H}^{(i)}, a_{H}^{(i)},s_{H+1}^{(i)}) $$\n",
        "\n",
        "\n",
        "2. Use the trajectories to estimate the gradient $\\hat{g} = \\triangledown{_\\theta} E_{\\pi_{\\theta}}[R(\\tau)] $ \n",
        "\n",
        "\n",
        "\\begin{equation}\n",
        "\\hat{g} =  \\triangledown_{\\theta} E_{\\pi_{\\theta}}[R(\\tau)] :=  \\frac{1}{m} \\sum_{i=1}^{m} \\sum_{t=0}^{H} \\triangledown{_\\theta} \\text{log}_{\\pi_{\\theta}}(a_{t}^{(i)}|s_{t}^{(i)})R(\\tau^{(i)}) \\tag{1}\n",
        "\\end{equation}\n",
        "\n",
        "3. Update the weights of the policy: \n",
        "$$ \\theta \\leftarrow \\theta + \\alpha \\hat{g} $$\n",
        "\n",
        "4. Loop over steps 1-3\n",
        "\n",
        "### 1.3 The REINFORCE gradient approximation\n",
        "\n",
        "The crucial ingredient in the REINFORCE algorithm is the approximation formula in eq. (1). The derivation is shown below:\n",
        "\n",
        "\\begin{align*}\n",
        "\\triangledown{_\\theta} E_{\\pi_{\\theta}}[R(\\tau)] \n",
        "&= \\triangledown{_\\theta} \\sum_{\\tau} P(\\tau;\\theta) R(\\tau) \\tag{def. of expectation} \\\\\n",
        "&= \\sum_{\\tau} \\triangledown{_\\theta} P(\\tau;\\theta) R(\\tau) \\tag{gradient is a linear operator} \\\\\n",
        "&= \\sum_{\\tau} \\frac{P(\\tau;\\theta)}{P(\\tau;\\theta)} \\triangledown{_\\theta} P(\\tau;\\theta) R(\\tau) \\tag{multilply by 1} \\\\\n",
        "&= \\sum_{\\tau} P(\\tau;\\theta)\\frac{\\triangledown{_\\theta} P(\\tau;\\theta)}{P(\\tau;\\theta)}  R(\\tau) \\tag{rewrite} \\\\\n",
        "&= \\sum_{\\tau} P(\\tau;\\theta) \\triangledown{_\\theta} \\text{log}P(\\tau;\\theta)  R(\\tau) \\tag{derivative of log(x)} \\\\\n",
        "\\end{align*}\n",
        "\n",
        "In the final line the transformation $\\triangledown{_\\theta} \\text{log}P(\\tau;\\theta) = \\frac{\\triangledown{_\\theta}P(\\tau;\\theta)}{P(\\tau;\\theta)} $ is known as the **likelihood ratio transformation** or, alteratively, the REINFORCE trick which is why\n",
        "\n",
        "\\begin{align}\n",
        "\\triangledown_{\\theta} E_{\\pi_{\\theta}}[R(\\tau)] = \\sum_{\\tau} P(\\tau;\\theta) \\triangledown_{\\theta} \\text{log}P(\\tau;\\theta)  R(\\tau)  \\tag{2}\n",
        "\\end{align}\n",
        "\n",
        "is commonly referred to as the **likelihood ratio policy gradient**.\n",
        "\n",
        "Since we cannot compute the sum in eq. (2) over all possible trajectories $\\tau$ we approximate the value of the **likelihood ratio policy gradient** over a sample of $m$ trajectories $\\{\\tau^{(1)}, \\tau^{(2)},..., \\tau^{(m)} \\}$. The probability of each trajectory in the sample is $\\frac{1}{m}$, consequently\n",
        "\n",
        "$$ \\triangledown{_\\theta} E_{\\pi_{\\theta}}[R(\\tau)] = \\frac{1}{m} \\sum_{i=1}^{m} \\triangledown{_\\theta} \\text{log}P(\\tau;\\theta^{(i)})  R(\\tau^{(i)})  \\tag{3}\n",
        "$$\n",
        "\n",
        "Expanding the $\\triangledown{_\\theta} \\text{log}P(\\tau^{(i)};\\theta)$ term we get  \n",
        "\n",
        "\\begin{align*}\n",
        "\\triangledown{_\\theta} \\text{log}P(\\tau;\\theta)\n",
        "&= \\triangledown{_\\theta} \\text{log} \\prod_{t=0}^{H} P(s_{(t+1)}^{(i)}|s_{(t)}^{(i)}, a_{(t)}^{(i)}) \\pi_{\\theta}(a_{(t)}^{(i)}|s_{(t)}^{(i)}) \\tag{def. of $\\tau^{(i)}$} \\\\\n",
        "&=\\triangledown{_\\theta} \\sum_{t=0}^{H} \\text{log} P(s_{(t+1)}^{(i)}|s_{(t)}^{(i)}, a_{(t)}^{(i)}) \\pi_{\\theta}(a_{(t)}^{(i)}|s_{(t)}^{(i)}) \\tag{properties of log} \\\\\n",
        "&=\\triangledown{_\\theta}\\left[ \\sum_{t=0}^{H} \\text{log} P(s_{(t+1)}^{(i)}|s_{(t)}^{(i)}, a_{(t)}^{(i)}) + \\sum_{t=0}^{H} \\text{log} \\pi_{\\theta}(a_{(t)}^{(i)}|s_{(t)}^{(i)}) \\tag{properties of log}\\right] \\\\\n",
        "&=\\triangledown{_\\theta} \\sum_{t=0}^{H} \\text{log} \\pi_{\\theta}(a_{(t)}^{(i)}|s_{(t)}^{(i)}) \\tag{first sum is a scalar} \\\\\n",
        "&= \\sum_{t=0}^{H} \\triangledown{_\\theta}  \\text{log} \\pi_{\\theta}(a_{(t)}^{(i)}|s_{(t)}^{(i)}) \\tag{gradient is a linear operator} \\\\\n",
        "\\end{align*}\n",
        "\n",
        "Substituting $\\triangledown{_\\theta} \\text{log}P(\\tau;\\theta) = \\sum_{t=0}^{H} \\triangledown{_\\theta}  \\text{log} \\pi_{\\theta}(a_{(t)}^{(i)}|s_{(t)}^{(i)})$ back into the approximation for the likelihood ratio policy gradient in eq. (3) we get eq. (1)\n",
        "\n",
        "\n",
        "$$ \\triangledown{_\\theta} E_{\\pi_{\\theta}}[R(\\tau)] = \\frac{1}{m} \\sum_{i=1}^{m} \\sum_{t=0}^{H} \\triangledown{_\\theta}  \\text{log} \\pi_{\\theta}(a_{(t)}^{(i)}|s_{(t)}^{(i)})  R(\\tau^{(i)})\n",
        "$$\n"
      ],
      "metadata": {
        "id": "zjsKIDfsqOsq"
      }
    },
    {
      "cell_type": "markdown",
      "metadata": {
        "id": "ZTp9R8gCnAy2"
      },
      "source": [
        "## 2. Implementation"
      ]
    },
    {
      "cell_type": "code",
      "execution_count": null,
      "metadata": {
        "id": "IUF3ASUqnAy3",
        "colab": {
          "base_uri": "https://localhost:8080/"
        },
        "outputId": "37a2ec31-5d7d-47dd-bfe9-2c6c2e56edd5"
      },
      "outputs": [
        {
          "output_type": "stream",
          "name": "stdout",
          "text": [
            "GPU 0: Tesla P100-PCIE-16GB (UUID: GPU-dd553738-aba8-45b0-4b1c-a9d5802c4ed3)\n"
          ]
        }
      ],
      "source": [
        "import gym\n",
        "from gym import logger as gymlogger\n",
        "from gym.wrappers import Monitor\n",
        "gymlogger.set_level(40) #error only (suppress warnings)\n",
        "\n",
        "import numpy as np\n",
        "\n",
        "from collections import deque\n",
        "import matplotlib.pyplot as plt\n",
        "%matplotlib inline\n",
        "\n",
        "import torch\n",
        "torch.manual_seed(0) # set random seed\n",
        "import torch.nn as nn\n",
        "import torch.nn.functional as F\n",
        "import torch.optim as optim\n",
        "from torch.distributions import Categorical\n",
        "\n",
        "!nvidia-smi -L"
      ]
    },
    {
      "cell_type": "code",
      "execution_count": null,
      "metadata": {
        "id": "FbMqHRHcnAy4",
        "outputId": "60de02b3-e0af-4f1c-a27b-510270cbe1a6",
        "colab": {
          "base_uri": "https://localhost:8080/"
        }
      },
      "outputs": [
        {
          "output_type": "stream",
          "name": "stdout",
          "text": [
            "State space: Box(-3.4028234663852886e+38, 3.4028234663852886e+38, (4,), float32)\n",
            "Action space: Discrete(2)\n"
          ]
        }
      ],
      "source": [
        "env = gym.make('CartPole-v0')\n",
        "env.seed(0)\n",
        "\n",
        "print('State space:', env.observation_space)\n",
        "print('Action space:', env.action_space)"
      ]
    },
    {
      "cell_type": "code",
      "execution_count": null,
      "metadata": {
        "id": "Lh0ONybmnAy5"
      },
      "outputs": [],
      "source": [
        "device = torch.device('cuda:0' if torch.cuda.is_available() else 'cpu')\n",
        "\n",
        "# Define a neural network (NN) whose weights determine the policy\n",
        "# Default size: 4,16,2. The NN maps states to actions\n",
        "class Policy(nn.Module):\n",
        "    def __init__(self, state_size = 4, hl1=16, action_size=2):\n",
        "        super(Policy, self).__init__()\n",
        "        self.fc1 = nn.Linear(state_size, hl1)\n",
        "        self.fc2 = nn.Linear(hl1, action_size)\n",
        "        \n",
        "    def forward(self, x):\n",
        "        x = self.fc1(x)\n",
        "        x = F.relu(x)\n",
        "        x = self.fc2(x)\n",
        "        return F.softmax(x, dim=1) # softmax to output discrete dist. over actions\n",
        "        \n",
        "    def act(self, state):\n",
        "        state = torch.from_numpy(state).float().unsqueeze(0).to(device)\n",
        "        probs = self.forward(state)\n",
        "        m = Categorical(probs)\n",
        "        action = m.sample()\n",
        "        return action.item(), m.log_prob(action)\n"
      ]
    },
    {
      "cell_type": "code",
      "execution_count": null,
      "metadata": {
        "id": "pO7Gd6fynAy5",
        "outputId": "1a3336a6-89da-49f0-8935-fe3f81702606",
        "colab": {
          "base_uri": "https://localhost:8080/"
        }
      },
      "outputs": [
        {
          "output_type": "stream",
          "name": "stdout",
          "text": [
            " Epside: 100 \t Average Score: 24.94\n",
            " Epside: 200 \t Average Score: 40.77\n",
            " Epside: 300 \t Average Score: 39.05\n",
            " Epside: 400 \t Average Score: 82.67\n",
            " Epside: 500 \t Average Score: 119.41\n",
            " Epside: 600 \t Average Score: 129.69\n",
            " Epside: 700 \t Average Score: 99.75\n",
            " Epside: 800 \t Average Score: 115.51\n",
            " Epside: 900 \t Average Score: 123.07\n",
            " Epside: 1000 \t Average Score: 178.69\n"
          ]
        }
      ],
      "source": [
        "policy = Policy().to(device)\n",
        "optimizer = torch.optim.Adam(policy.parameters(), lr=0.005)\n",
        "\n",
        "def reinforce(n_episodes=1500, max_t=1000, gamma=1.0, print_every=100):\n",
        "\n",
        "    scores = []\n",
        "    for episode in range(1,n_episodes+1): \n",
        "        rewards = []\n",
        "        log_probs = []\n",
        "\n",
        "        state = env.reset()\n",
        "        for t in range(max_t):\n",
        "            action, log_prob = policy.act(state)\n",
        "            next_state, reward, done, _ = env.step(action)\n",
        "            rewards.append(reward)\n",
        "            log_probs.append(log_prob)\n",
        "            state = next_state\n",
        "            if done: \n",
        "                break\n",
        "        scores.append(sum(rewards))\n",
        "\n",
        "        discounts = [gamma**i for i in range(len(rewards))]\n",
        "        R = sum([d*r for d,r in zip(discounts, rewards)])        \n",
        "\n",
        "        policy_loss = []\n",
        "        for log_pr in log_probs:\n",
        "            policy_loss.append(- log_pr*R)\n",
        "        policy_loss = torch.cat(policy_loss).sum()\n",
        "\n",
        "        optimizer.zero_grad()\n",
        "        policy_loss.backward()\n",
        "        optimizer.step()\n",
        "\n",
        "        if episode%print_every==0:\n",
        "            avg_score = sum(scores[episode-print_every:episode])/print_every\n",
        "            print('\\r Epside: {:d} \\t Average Score: {:.2f}'.format(episode, avg_score))\n",
        "\n",
        "        avg_last_100_scores = np.mean(scores[-100:])\n",
        "        if  avg_last_100_scores >= 200.0:\n",
        "            print(' Task solved in {:d} episodes. Average score: {:.2f}'.format(episode, avg_last_100_scores))\n",
        "            break\n",
        "        \n",
        "    return scores\n",
        "\n",
        "scores = reinforce()"
      ]
    },
    {
      "cell_type": "markdown",
      "metadata": {
        "id": "G3yVKHMbnAy6"
      },
      "source": [
        "## 3. Plot training scores"
      ]
    },
    {
      "cell_type": "code",
      "execution_count": null,
      "metadata": {
        "id": "X59utBJTnAy6",
        "outputId": "8c123e65-e8b4-4e62-b8e1-c60dbac23006",
        "colab": {
          "base_uri": "https://localhost:8080/",
          "height": 279
        }
      },
      "outputs": [
        {
          "output_type": "display_data",
          "data": {
            "text/plain": [
              "<Figure size 432x288 with 1 Axes>"
            ],
            "image/png": "[encoded data removed]"
          },
          "metadata": {
            "needs_background": "light"
          }
        }
      ],
      "source": [
        "fig = plt.figure()\n",
        "ax = fig.add_subplot(111)\n",
        "plt.plot(np.arange(len(scores))+1, scores)\n",
        "plt.xlabel('Episode #')\n",
        "plt.ylabel('Score')\n",
        "plt.show()"
      ]
    },
    {
      "cell_type": "markdown",
      "metadata": {
        "id": "ZwJgmLpSnAy7"
      },
      "source": [
        "## 4. Watch the trained agent perform the task\n",
        "\n",
        "To display the how the trained agent performs the tast on `Google Colab` we have to record a video as done here: https://colab.research.google.com/drive/1flu31ulJlgiRL1dnN2ir8wGh9p7Zij2t#scrollTo=nQEtc28G4niA"
      ]
    },
    {
      "cell_type": "code",
      "source": [
        "#remove \" > /dev/null 2>&1\" to see what is going on under the hood\n",
        "!pip install gym pyvirtualdisplay > /dev/null 2>&1\n",
        "!apt-get install -y xvfb python-opengl ffmpeg > /dev/null 2>&1\n",
        "!apt-get update > /dev/null 2>&1\n",
        "!apt-get install cmake > /dev/null 2>&1\n",
        "!pip install --upgrade setuptools 2>&1\n",
        "!pip install ez_setup > /dev/null 2>&1\n",
        "!pip install gym[atari] > /dev/null 2>&1\n",
        "\n",
        "\n",
        "import matplotlib\n",
        "import matplotlib.pyplot as plt\n",
        "%matplotlib inline\n",
        "import glob\n",
        "import io\n",
        "import base64\n",
        "from IPython.display import HTML\n",
        "\n",
        "from IPython import display as ipythondisplay\n",
        "\n",
        "from pyvirtualdisplay import Display\n",
        "display = Display(visible=0, size=(1400, 900))\n",
        "display.start()\n",
        "\n",
        "\"\"\"\n",
        "Utility functions to enable video recording of gym environment \n",
        "and displaying it.\n",
        "To enable video, just do \"env = wrap_env(env)\"\"\n",
        "\"\"\"\n",
        "\n",
        "\n",
        "def show_video():\n",
        "    mp4list = glob.glob('video/*.mp4')\n",
        "    if len(mp4list) > 0:\n",
        "        mp4 = mp4list[0]\n",
        "        video = io.open(mp4, 'r+b').read()\n",
        "        encoded = base64.b64encode(video)\n",
        "        ipythondisplay.display(HTML(data='''<video alt=\"test\" autoplay \n",
        "                loop controls style=\"height: 400px;\">\n",
        "                <source src=\"data:video/mp4;base64,{0}\" type=\"video/mp4\" />\n",
        "             </video>'''.format(encoded.decode('ascii'))))\n",
        "    else:\n",
        "        print(\"Could not find video\")\n",
        "\n",
        "\n",
        "def wrap_env(env):\n",
        "    env = Monitor(env, './video', force=True)\n",
        "    return env\n"
      ],
      "metadata": {
        "colab": {
          "base_uri": "https://localhost:8080/"
        },
        "id": "nlFnr90G73zg",
        "outputId": "ce848947-3e68-459f-be44-187a84b1be07"
      },
      "execution_count": null,
      "outputs": [
        {
          "output_type": "stream",
          "name": "stdout",
          "text": [
            "Looking in indexes: https://pypi.org/simple, https://us-python.pkg.dev/colab-wheels/public/simple/\n",
            "Requirement already satisfied: setuptools in /usr/local/lib/python3.7/dist-packages (62.4.0)\n"
          ]
        }
      ]
    },
    {
      "cell_type": "code",
      "execution_count": null,
      "metadata": {
        "id": "ZSVjGU0BnAy7",
        "colab": {
          "base_uri": "https://localhost:8080/",
          "height": 422
        },
        "outputId": "b83a8594-c10b-4929-cdc8-89b59b8d2dd1"
      },
      "outputs": [
        {
          "output_type": "display_data",
          "data": {
            "text/plain": [
              "<IPython.core.display.HTML object>"
            ],
            "text/html": [
              "<video alt=\"test\" autoplay \n",
              "                loop controls style=\"height: 400px;\">\n",
              "                <source src=\"data:video/mp4;base64,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\" type=\"video/mp4\" />\n",
              "             </video>"
            ]
          },
          "metadata": {}
        }
      ],
      "source": [
        "env = wrap_env(gym.make('CartPole-v0'))\n",
        "\n",
        "state = env.reset()\n",
        "for t in range(9000):\n",
        "\n",
        "    env.render()\n",
        "    action, _ = policy.act(state)\n",
        "    state, reward, done, _ = env.step(action)\n",
        "    # fig, ax = plt.subplots(figsize=(20, 10))\n",
        "    # ax.axis('off')\n",
        "    # img = ax.imshow(env.render(mode='rgb_array'))\n",
        "    # #img.set_data(env.render(mode='rgb_array')) \n",
        "    # display.display(plt.gcf())\n",
        "    if done:\n",
        "        break\n",
        "\n",
        "env.close()\n",
        "show_video()"
      ]
    },
    {
      "cell_type": "markdown",
      "metadata": {
        "id": "eDCe9wEjnAy9"
      },
      "source": [
        "## 5. Comments\n",
        "\n",
        "### 5.1 Implementation\n",
        "\n",
        "The reason why the ```backward()``` operation in ```PyTorch``` works on categorical probability distributions is explained here: https://pytorch.org/docs/stable/distributions.html\n",
        "\n",
        "### 5.2 Performance\n",
        "\n",
        "From the graph of the training scores we can see the REINFORCE algorithm is not very stable. If the random seed for the CartPole-v0 environment or the random seed of the PyTorch library is changed (e.g. try ``env.seed(22)`` with ``torch.manual_seed(0)``) the algorithm will not converge even if we increase the size of the first hidden layer to an arbitrary large number e.g. 1024.\n",
        "\n",
        "[Proximal Policy Optimization](https://arxiv.org/pdf/1707.06347.pdf) overcomes the limitations of REINFORCE. "
      ]
    }
  ],
  "metadata": {
    "kernelspec": {
      "display_name": "Python 3",
      "language": "python",
      "name": "python3"
    },
    "language_info": {
      "codemirror_mode": {
        "name": "ipython",
        "version": 3
      },
      "file_extension": ".py",
      "mimetype": "text/x-python",
      "name": "python",
      "nbconvert_exporter": "python",
      "pygments_lexer": "ipython3",
      "version": "3.8.5"
    },
    "colab": {
      "name": "Reinforce_Colab.ipynb",
      "provenance": [],
      "collapsed_sections": [],
      "include_colab_link": true
    },
    "accelerator": "GPU",
    "gpuClass": "standard"
  },
  "nbformat": 4,
  "nbformat_minor": 0
}