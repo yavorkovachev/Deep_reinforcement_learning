{
 "cells": [
  {
   "cell_type": "markdown",
   "metadata": {},
   "source": [
    "# REINFORCE algorithm\n",
    "\n",
    "## 1. Algorithm and environment overview \n",
    "\n",
    "This notebook shows how to apply the REINFORCE algoritm to solve OpenAI Gym's [CartPole-v0](https://github.com/openai/gym/wiki/CartPole-v0) environment.\n",
    "\n",
    "### 1.1 Overview\n",
    "\n",
    "We use a neural network to apporixmate the optimal policy function (instead of keeping a table of value function estimates) and apply gradient ascent to find the optimal weights of the network i.e. the weights which maximize expected future returns. The neural network takes the current state as input and outputs a discrete probability distribution over the action set.\n",
    "\n",
    "If we let $\\theta$ denote the weights of the neural network and $U(\\theta)$ the expected future rewards.  We want to solve the problem \n",
    "\n",
    "$$max_\\theta E_{\\pi_{\\theta}}[R(\\tau)]$$\n",
    "\n",
    "where the expectation is taken over all possible state-action sequences, also called trajectories, of (horizon) lenght H $\\tau = (s_{0}, a_{0},...,s_{H}, a_{H},s_{H+1})$ \n",
    "\n",
    "### 1.2 The REINFORCE algorithm \n",
    "\n",
    "The REINFORCE algorithm solves the optimization problem above in the following steps: \n",
    "\n",
    "1. Use policy $\\pi_\\theta$ determined by the weights of the nueral network to generate $m$ trajectories $\\{\\tau^{(1)}, \\tau^{(2)},..., \\tau^{(m)} \\}$ with (horizon) length $H$ where the i-th trajectory is defined as the collection of state action pairs\n",
    "\n",
    "$$ \\tau^{(i)} = (s_{0}^{(i)}, a_{0}^{(i)},...,s_{H}^{(i)}, a_{H}^{(i)},s_{H+1}^{(i)}) $$\n",
    "\n",
    "\n",
    "2. Use the trajectories to estimate the gradient $\\triangledown{_\\theta} U(\\theta)$ \n",
    "\n",
    "\\begin{equation*}\n",
    "max_\\theta E_{\\pi_{\\theta}}[R(\\tau)] \\approx \\hat{g} := \\frac{1}{m} \\sum_{i=1}^{m} \\sum_{t=0}^{H} \\triangledown{_\\theta} \\text{log}_{\\pi_{\\theta}}(a_{t}^{(i)}|s_{t}^{(i)})R(\\tau^{(i)}) \n",
    "\\label{eq:grad_approx} \\tag{1}\n",
    "\\end{equation*}\n",
    "\n",
    "3. Update the weights of the policy: \n",
    "$$ \\theta \\leftarrow \\theta + \\alpha \\hat{g} $$\n",
    "\n",
    "4. Loop over steps 1-3\n",
    "\n",
    "### 1.3 The REINFORCE gradient approximation\n",
    "\n",
    "The crucial ingredient in the REINFORCE algorithm is the approximation formula in $\\eqref{eq:grad_approx}$. The derivation is shown below:\n",
    "\n",
    "\\begin{align*}\n",
    "\\triangledown{_\\theta} E_{\\pi_{\\theta}}[R(\\tau)] \n",
    "&= \\triangledown{_\\theta} \\sum_{\\tau} P(\\tau;\\theta) R(\\tau) \\tag{def. of expectation} \\\\\n",
    "&= \\sum_{\\tau} \\triangledown{_\\theta} P(\\tau;\\theta) R(\\tau) \\tag{gradient is a linear operator} \\\\\n",
    "&= \\sum_{\\tau} \\frac{P(\\tau;\\theta)}{P(\\tau;\\theta)} \\triangledown{_\\theta} P(\\tau;\\theta) R(\\tau) \\tag{multilply by 1} \\\\\n",
    "&= \\sum_{\\tau} P(\\tau;\\theta)\\frac{\\triangledown{_\\theta} P(\\tau;\\theta)}{P(\\tau;\\theta)}  R(\\tau) \\tag{rewrite} \\\\\n",
    "&= \\sum_{\\tau} P(\\tau;\\theta) \\triangledown{_\\theta} \\text{log}P(\\tau;\\theta)  R(\\tau) \\tag{def. of derivative of log(x)} \\\\\n",
    "\\end{align*}\n",
    "\n",
    "In the final line the transformation $\\triangledown{_\\theta} \\text{log}P(\\tau;\\theta) = \\frac{\\triangledown{_\\theta}P(\\tau;\\theta)}{P(\\tau;\\theta)} $ is known as the **likelihood ratio transformation** or, alteratively, the REINFORCE trick. That is why\n",
    "\n",
    "\\begin{align*}\n",
    "\\triangledown{_\\theta} E_{\\pi_{\\theta}}[R(\\tau)] = \\sum_{\\tau} P(\\tau;\\theta) \\triangledown{_\\theta} \\text{log}P(\\tau;\\theta)  R(\\tau)  \\tag{2}\n",
    "\\label{eq:lrpg}\n",
    "\\end{align*}\n",
    "\n",
    "is commonly referred to as the **likelihood ratio policy gradient**.\n",
    "\n",
    "Since we cannot compute the sum in $\\eqref{eq:lrpg}$ over all possible trajectories $\\tau$ we approximate the value of the **likelihood ratio policy gradient** over a sample of $m$ trajectories $\\{\\tau^{(1)}, \\tau^{(2)},..., \\tau^{(m)} \\}$. The probability of each trajectory in the sample is $\\frac{1}{m}$, consequently\n",
    "\n",
    "$$ \\triangledown{_\\theta} E_{\\pi_{\\theta}}[R(\\tau)] = \\frac{1}{m} \\sum_{i=1}^{m} \\triangledown{_\\theta} \\text{log}P(\\tau;\\theta^{(i)})  R(\\tau^{(i)})  \\tag{3} \\label{eq:approx}$$\n",
    "\n",
    "Expanding the $\\triangledown{_\\theta} \\text{log}P(\\tau^{(i)};\\theta)$ term we get  \n",
    "\n",
    "\\begin{align*}\n",
    "\\triangledown{_\\theta} \\text{log}P(\\tau;\\theta)\n",
    "&= \\triangledown{_\\theta} \\text{log} \\prod_{t=0}^{H} P(s_{(t+1)}^{(i)}|s_{(t)}^{(i)}, a_{(t)}^{(i)}) \\pi_{\\theta}(a_{(t)}^{(i)}|s_{(t)}^{(i)}) \\tag{def. of $\\tau^{(i)}$} \\\\\n",
    "&=\\triangledown{_\\theta} \\sum_{t=0}^{H} \\text{log} P(s_{(t+1)}^{(i)}|s_{(t)}^{(i)}, a_{(t)}^{(i)}) \\pi_{\\theta}(a_{(t)}^{(i)}|s_{(t)}^{(i)}) \\tag{properties of log} \\\\\n",
    "&=\\triangledown{_\\theta}\\left[ \\sum_{t=0}^{H} \\text{log} P(s_{(t+1)}^{(i)}|s_{(t)}^{(i)}, a_{(t)}^{(i)}) + \\sum_{t=0}^{H} \\text{log} \\pi_{\\theta}(a_{(t)}^{(i)}|s_{(t)}^{(i)}) \\tag{properties of log}\\right] \\\\\n",
    "&=\\triangledown{_\\theta} \\sum_{t=0}^{H} \\text{log} \\pi_{\\theta}(a_{(t)}^{(i)}|s_{(t)}^{(i)}) \\tag{first sum is a scalar} \\\\\n",
    "&= \\sum_{t=0}^{H} \\triangledown{_\\theta}  \\text{log} \\pi_{\\theta}(a_{(t)}^{(i)}|s_{(t)}^{(i)}) \\tag{gradient is a linear operator} \\\\\n",
    "\\end{align*}\n",
    "\n",
    "Substituting $\\triangledown{_\\theta} \\text{log}P(\\tau;\\theta) = \\sum_{t=0}^{H} \\triangledown{_\\theta}  \\text{log} \\pi_{\\theta}(a_{(t)}^{(i)}|s_{(t)}^{(i)})$ back into the approximation for the likelihood ratio policy gradient $\\eqref{eq:approx}$ we get $\\eqref{eq:grad_approx} $\n",
    "\n",
    "\n",
    "$$ \\triangledown{_\\theta} E_{\\pi_{\\theta}}[R(\\tau)] = \\frac{1}{m} \\sum_{i=1}^{m} \\sum_{t=0}^{H} \\triangledown{_\\theta}  \\text{log} \\pi_{\\theta}(a_{(t)}^{(i)}|s_{(t)}^{(i)})  R(\\tau^{(i)})  $$\n",
    "\n",
    "\n",
    "\n",
    "\n"
   ]
  },
  {
   "cell_type": "markdown",
   "metadata": {},
   "source": [
    "## 2. Implementation"
   ]
  },
  {
   "cell_type": "code",
   "execution_count": 7,
   "metadata": {},
   "outputs": [],
   "source": [
    "import gym\n",
    "gym.logger.set_level(40) # suppress warnings (remove if this raises an error)\n",
    "import numpy as np\n",
    "from collections import deque\n",
    "import matplotlib.pyplot as plt\n",
    "%matplotlib inline\n",
    "\n",
    "import torch\n",
    "torch.manual_seed(0) # set random seed\n",
    "import torch.nn as nn\n",
    "import torch.nn.functional as F\n",
    "import torch.optim as optim\n",
    "from torch.distributions import Categorical"
   ]
  },
  {
   "cell_type": "code",
   "execution_count": 8,
   "metadata": {},
   "outputs": [
    {
     "name": "stdout",
     "output_type": "stream",
     "text": [
      "State space: Box(-3.4028234663852886e+38, 3.4028234663852886e+38, (4,), float32)\n",
      "Action space: Discrete(2)\n"
     ]
    }
   ],
   "source": [
    "env = gym.make('CartPole-v0')\n",
    "env.seed(0)\n",
    "\n",
    "print('State space:', env.observation_space)\n",
    "print('Action space:', env.action_space)"
   ]
  },
  {
   "cell_type": "code",
   "execution_count": 9,
   "metadata": {},
   "outputs": [],
   "source": [
    "device = torch.device('cuda:0' if torch.cuda.is_available() else 'cpu')\n",
    "\n",
    "# Define a neural network (NN) whose weights determine the policy\n",
    "# Default size: 4,16,2. The NN maps states to actions\n",
    "class Policy(nn.Module):\n",
    "    def __init__(self, state_size = 4, hl1=16, action_size=2):\n",
    "        super(Policy, self).__init__()\n",
    "        self.fc1 = nn.Linear(state_size, hl1)\n",
    "        self.fc2 = nn.Linear(hl1, action_size)\n",
    "        \n",
    "    def forward(self, x):\n",
    "        x = self.fc1(x)\n",
    "        x = F.relu(x)\n",
    "        x = self.fc2(x)\n",
    "        return F.softmax(x, dim=1) # softmax to output discrete dist. over actions\n",
    "        \n",
    "    def act(self, state):\n",
    "        state = torch.from_numpy(state).float().unsqueeze(0).to(device)\n",
    "        probs = self.forward(state)\n",
    "        m = Categorical(probs)\n",
    "        action = m.sample()\n",
    "        return action.item(), m.log_prob(action)\n"
   ]
  },
  {
   "cell_type": "code",
   "execution_count": 10,
   "metadata": {},
   "outputs": [
    {
     "name": "stdout",
     "output_type": "stream",
     "text": [
      " Epside: 100 \t Average Score: 23.19\n",
      " Epside: 200 \t Average Score: 37.86\n",
      " Epside: 300 \t Average Score: 69.58\n",
      " Epside: 400 \t Average Score: 120.53\n",
      " Epside: 500 \t Average Score: 124.44\n",
      " Epside: 600 \t Average Score: 141.08\n",
      " Epside: 700 \t Average Score: 145.75\n",
      " Epside: 800 \t Average Score: 187.20\n",
      " Task solved in 818 episodes. Average score: 195.00\n"
     ]
    }
   ],
   "source": [
    "policy = Policy().to(device)\n",
    "optimizer = torch.optim.Adam(policy.parameters(), lr=0.005)\n",
    "\n",
    "def reinforce(n_episodes=1000, max_t=1000, gamma=1.0, print_every=100):\n",
    "\n",
    "    scores = []\n",
    "    for episode in range(1,n_episodes+1): \n",
    "        rewards = []\n",
    "        log_probs = []\n",
    "\n",
    "        state = env.reset()\n",
    "        for t in range(max_t):\n",
    "            action, log_prob = policy.act(state)\n",
    "            next_state, reward, done, _ = env.step(action)\n",
    "            rewards.append(reward)\n",
    "            log_probs.append(log_prob)\n",
    "            state = next_state\n",
    "            if done: \n",
    "                break\n",
    "        scores.append(sum(rewards))\n",
    "\n",
    "        discounts = [gamma**i for i in range(len(rewards))]\n",
    "        R = sum([d*r for d,r in zip(discounts, rewards)])        \n",
    "\n",
    "        policy_loss = []\n",
    "        for log_pr in log_probs:\n",
    "            policy_loss.append(- log_pr*R)\n",
    "        policy_loss = torch.cat(policy_loss).sum()\n",
    "\n",
    "        optimizer.zero_grad()\n",
    "        policy_loss.backward()\n",
    "        optimizer.step()\n",
    "\n",
    "        if episode%print_every==0:\n",
    "            avg_score = sum(scores[episode-print_every:episode])/print_every\n",
    "            print('\\r Epside: {:d} \\t Average Score: {:.2f}'.format(episode, avg_score))\n",
    "\n",
    "        avg_last_100_scores = np.mean(scores[-100:])\n",
    "        if  avg_last_100_scores >= 195.0:\n",
    "            print(' Task solved in {:d} episodes. Average score: {:.2f}'.format(episode, avg_last_100_scores))\n",
    "            break\n",
    "        \n",
    "    return scores\n",
    "\n",
    "scores = reinforce()"
   ]
  },
  {
   "cell_type": "markdown",
   "metadata": {},
   "source": [
    "## 3. Plot training scores"
   ]
  },
  {
   "cell_type": "code",
   "execution_count": 11,
   "metadata": {},
   "outputs": [
    {
     "data": {
      "image/png": "[encoded data removed]",
      "text/plain": [
       "<Figure size 432x288 with 1 Axes>"
      ]
     },
     "metadata": {
      "needs_background": "light"
     },
     "output_type": "display_data"
    }
   ],
   "source": [
    "fig = plt.figure()\n",
    "ax = fig.add_subplot(111)\n",
    "plt.plot(np.arange(len(scores))+1, scores)\n",
    "plt.xlabel('Episode #')\n",
    "plt.ylabel('Score')\n",
    "plt.show()"
   ]
  },
  {
   "cell_type": "markdown",
   "metadata": {},
   "source": [
    "## 4. Watch the trained agent perform the task"
   ]
  },
  {
   "cell_type": "code",
   "execution_count": 22,
   "metadata": {},
   "outputs": [],
   "source": [
    "env = gym.make('CartPole-v0')\n",
    "\n",
    "state = env.reset()\n",
    "for t in range(9000):\n",
    "    action, _ = policy.act(state)\n",
    "    state, reward, done, _ = env.step(action)\n",
    "    env.render()\n",
    "    if done:\n",
    "        break\n",
    "\n",
    "env.close()"
   ]
  },
  {
   "cell_type": "markdown",
   "metadata": {},
   "source": [
    "## 5. Comments\n",
    "\n",
    "### 5.1 Implementation\n",
    "\n",
    "The reason why the ```backward()``` operation in ```PyTorch``` works on categorical probability distributions is explained here: https://pytorch.org/docs/stable/distributions.html\n",
    "\n",
    "### 5.2 Performance\n",
    "\n",
    "From the graph of the training scores we can see the REINFORCE algorithm is not very stable. If the random seed for the CartPole-v0 environment or the random seed of the PyTorch library is changed (e.g. try ``env.seed(22)`` with ``torch.manual_seed(0)``) the algorithm will not converge even if we increase the size of the first hidden layer to an arbitrary large number e.g. 1024.\n",
    "\n",
    "[Proximal Policy Optimization](https://arxiv.org/pdf/1707.06347.pdf) overcomes the limitations of REINFORCE. "
   ]
  }
 ],
 "metadata": {
  "kernelspec": {
   "display_name": "Python 3",
   "language": "python",
   "name": "python3"
  },
  "language_info": {
   "codemirror_mode": {
    "name": "ipython",
    "version": 3
   },
   "file_extension": ".py",
   "mimetype": "text/x-python",
   "name": "python",
   "nbconvert_exporter": "python",
   "pygments_lexer": "ipython3",
   "version": "3.8.5"
  }
 },
 "nbformat": 4,
 "nbformat_minor": 4
}
